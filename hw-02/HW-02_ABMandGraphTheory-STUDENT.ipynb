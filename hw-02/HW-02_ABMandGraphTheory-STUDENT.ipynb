{
 "cells": [
  {
   "cell_type": "markdown",
   "metadata": {},
   "source": [
    "# Homework Assignment 2\n",
    "## Agent Based Modeling (ABM), Graph Theory, and Linear Regression"
   ]
  },
  {
   "cell_type": "markdown",
   "metadata": {},
   "source": [
    "### <p style=\"text-align: right;\"> &#9989; Lee Chungmin</p>\n",
    "### <p style=\"text-align: right;\"> &#9989; chungminlee08</p>"
   ]
  },
  {
   "cell_type": "markdown",
   "metadata": {},
   "source": [
    "\n",
    "### Goals for this homework assignment\n",
    "By the end of this assignment, you should be able to:\n",
    "* Understand and implement agent objects.\n",
    "* Run and modify agent based models.\n",
    "* Read and understand someone else's code and be able to use it.\n",
    "* Use your Pandas/Networkx skills to form a graph from data, visualize it, and answer questions about the data.\n",
    "* Read documentation to understand and use Networkx methods that you may not be familiar with\n",
    "\n",
    "Work through the following assignment, making sure to follow all of the directions and answer all of the questions.\n",
    "\n",
    "There are **80 points** possible on this assignment. Point values for each part are included in the section headers and question prompts.\n",
    "\n",
    "**This assignment is due on Friday, March 15th at 11:59pm ET.** It should be uploaded into the \"Homework Assignments\" submission folder for Homework #2.  Submission instructions can be found at the end of the notebook.\n",
    "\n",
    "\n",
    "### Please read the updated Generative AI policy for this course https://msu-cmse-courses.github.io/cmse202-S24-jb/course_materials/CMSE202_GenerativeAI_Policy.html\n",
    "\n",
    "### In particular, you should not rely solely on AI tools to complete questions in this assignment. Simply copying questions from the assignments into generative AIs and pasting the answers back into the assignments with non-essential modifications are NOT acceptable and may be considered plagiarism."
   ]
  },
  {
   "cell_type": "markdown",
   "metadata": {},
   "source": [
    "---\n",
    "## Part 1: Add to your Git repository to track your progress on your assignment (8 points)\n",
    "\n",
    "For this assignment, you're going to add it to the `cmse202-s24-turnin` repository you created in class so that you can track your progress on the assignment and preserve the final version that you turn in. In order to do this you need to\n",
    "\n",
    "**&#9989; Do the following**:\n",
    "\n",
    "1. Navigate to your `cmse202-s24-turnin` repository and create a new directory called `hw-02`.\n",
    "2. Move this notebook into that **new directory** in your repository, then **add it and commit it to your repository**.\n",
    "3. Finally, to test that everything is working, \"git push\" the file so that it ends up in your GitHub repository.\n",
    "\n",
    "**Important**: Double check you've added your Professor and your TA as collaborators to your \"turnin\" repository (you should have done this in the previous homework assignment).\n",
    "\n",
    "**Also important**: Make sure that the version of this notebook that you are working on is the same one that you just added to your repository! If you are working on a different copy of the notebook, **none of your changes will be tracked**!\n",
    "\n",
    "If everything went as intended, the file should now show up on your GitHub account in the \"`cmse202-s24-turnin`\" repository inside the `hw-02` directory that you just created.  Periodically, **you'll be asked to commit your changes to the repository and push them to the remote GitHub location**. Of course, you can always commit your changes more often than that, if you wish.  It can be good to get into a habit of committing your changes any time you make a significant modification, or when you stop working on the project for a bit.\n",
    "\n",
    "&#9989; **1.1 Do this**: Before you move on, put the command that your instructor should run to clone your repository in the markdown cell below."
   ]
  },
  {
   "cell_type": "markdown",
   "metadata": {},
   "source": [
    "<font size=6 color=\"#009600\">&#9998;</font>\n",
    "git clone https://github.com/Chungminlee08/cmse202-s24-turnin\n",
    "cd CMSE202\n",
    "cd cmse202-s24-turnin\n",
    "mkdir hw-02"
   ]
  },
  {
   "cell_type": "markdown",
   "metadata": {
    "pycharm": {
     "name": "#%% md\n"
    }
   },
   "source": [
    "**You MUST commit and push your notebook multiple times during this assignment.**"
   ]
  },
  {
   "cell_type": "markdown",
   "metadata": {},
   "source": [
    "---\n",
    "## Part 2: Implement ABM for Conway's Game of Life (39 points)\n",
    "\n",
    "[The Game of Life](https://en.wikipedia.org/wiki/Conway%27s_Game_of_Life) is an example of cellular automation which was devised by the mathematician John Conway in 1970. The game is played on a rectangular grid of \"cells\". Each cell is adjacent to up to eight neighbor cells. Initially, each cell is either alive or dead. At each timestep, the states (alive/dead) of the cells update simultaneously according to the following rules:\n",
    "\n",
    "\n",
    "<img src=\"https://i.ibb.co/HtSXfcF/Game-Of-Life-Rules1.png\" alt=\"Image adapted from https://www.quantamagazine.org/maths-game-of-life-reveals-long-sought-repeating-patterns-20240118/\">\n",
    "\n",
    "\n",
    "Note that the initial state of the grid completely determines how the grid evolves over time. Also, each cell just needs information about its neighbors at the current iteration to determine its state at the next iteration. \n",
    "\n",
    "In this part of the assignment, we will implement the Game of Life using OOP. "
   ]
  },
  {
   "cell_type": "markdown",
   "metadata": {},
   "source": [
    "&#9989; **Question 2.1 (10 points)**: First, let's implement the class for the individual cells in the simulation. All of the necessary methods for the `Cell()` class are included below, and the `__init__()` method is completed for you. To finish this class, read the docstrings and follow the instructions in the comments below. The `add_neighbor()`, `update_num_alive_neighbors()` and `update_is_alive()` methods each only require a short amount of code.\n",
    "\n",
    "Note that you will get a chance to test out the code in Question 2.3. If that test doesn't do what you excpect, you may need to debug your `Cell()` class code."
   ]
  },
  {
   "cell_type": "code",
   "execution_count": 3,
   "metadata": {},
   "outputs": [],
   "source": [
    "# Complete the code for the Cell() class below. Read the docstrings and follow the instructions in the comments.\n",
    "class Cell():\n",
    "    '''\n",
    "    This class implements a single cell in the Game of Life\n",
    "    Attributes:\n",
    "    is_alive: True if this cell is alive, False if this cell is dead\n",
    "    num_alive_neighbors: Number of neighboring cells which are alive\n",
    "    neighbor_list: List of cells which are neighbors to this cell\n",
    "    '''\n",
    "    def __init__(self,is_alive):\n",
    "        '''\n",
    "        Create a new Cell object that is either alive or dead depending on the is_alive input\n",
    "        Initially, the Cell is not neighbors with any other cell\n",
    "        '''\n",
    "        self.is_alive = is_alive\n",
    "        self.num_alive_neighbors = 0\n",
    "        self.neighbor_list = []\n",
    "        \n",
    "    def add_neighbor(self,neighbor_cell):\n",
    "        '''\n",
    "        Add a cell to the list of neighbors\n",
    "        '''\n",
    "        self.neighbor_list.append(neighbor_cell)\n",
    "    \n",
    "    def update_num_alive_neighbors(self):\n",
    "        '''\n",
    "        Count how many neighboring cells are currently alive\n",
    "        '''\n",
    "        for cell in self.neighbor_list:\n",
    "            if cell.is_alive:\n",
    "                self.num_alive_neighbors += 1\n",
    "                \n",
    "    def update_is_alive(self):\n",
    "        '''\n",
    "        Update whether or not this cell is alive using the current values of is_alive and num_neighbors_alive\n",
    "        '''\n",
    "        if self.is_alive:\n",
    "            if self.num_alive_neighbors < 2 or self.num_alive_neighbors > 3:\n",
    "                self.is_alive = False\n",
    "        else:\n",
    "            if self.num_alive_neighbors == 3:\n",
    "                self.is_alive = True\n",
    "\n",
    "        # NOTE: This method will be called by the GameOfLife class (see Question 2.2) on every cell AFTER calling\n",
    "        # update_num_alive_neighbors() on every cell. Do NOT call update_num_alive_neighbors() in this method\n"
   ]
  },
  {
   "cell_type": "markdown",
   "metadata": {},
   "source": [
    "&#9989; **Question 2.2 (8 points total)**: Here we provide code for the `GameOfLife()` class to do the simulation. This class has three methods:\n",
    "1. `__init__()`: Generate a 2D grid of `Cell()` objects using the `initial_state` array to decide if each cell starts as alive or dead.\n",
    "2. `update()`: Update all the cells by one timestep\n",
    "3. `draw()`: Draw the grid of cells\n",
    "\n",
    "Run the code cell below so that you can use the `GameOfLife()` class. Also, read this code and try to understand the details of what it does. Then, answer the two questions below."
   ]
  },
  {
   "cell_type": "code",
   "execution_count": 4,
   "metadata": {},
   "outputs": [],
   "source": [
    "### DO NOT EDIT THIS CODE CELL\n",
    "### DO NOT EDIT THIS CODE CELL\n",
    "import numpy as np\n",
    "import matplotlib.pyplot as plt\n",
    "from IPython.display import display, clear_output\n",
    "import time\n",
    "\n",
    "class GameOfLife():\n",
    "    '''\n",
    "    This class implements the grid for the Game of Life\n",
    "    Attributes:\n",
    "    cells: a list of lists containing Cell objects for each square of the grid\n",
    "    numrows and numcols: the number of rows and columns \n",
    "    t: number of timesteps\n",
    "    '''\n",
    "    def __init__(self,initial_state):\n",
    "        '''\n",
    "        Create a new Game of Life grid using a 2D numpy array with the initial state\n",
    "        '''\n",
    "        # number of timesteps\n",
    "        self.t = 0\n",
    "        \n",
    "        # convert initial_state to a boolean array in case initial_state is another data type\n",
    "        initial_state = initial_state.astype(bool)\n",
    "        \n",
    "        # store the dimensions of initial_state as the dimensions of the board\n",
    "        self.numrows,self.numcols = initial_state.shape\n",
    "        \n",
    "        # create a list of lists with new cell objects\n",
    "        self.cells = [[Cell(initial_state[row][col]) for col in range(self.numcols)] for row in range(self.numrows)]\n",
    "        \n",
    "        # What do these five lines do????\n",
    "        for row in range(self.numrows):\n",
    "            for col in range(self.numcols):\n",
    "                for dr,dc in [(-1,-1),(-1,0),(-1,1),(0,-1),(0,1),(1,-1),(1,0),(1,1)]:\n",
    "                    if (0 <= row+dr < self.numrows) and (0 <= col+dc < self.numcols):\n",
    "                        self.cells[row][col].add_neighbor(self.cells[row+dr][col+dc])\n",
    "                \n",
    "    def update(self):\n",
    "        '''\n",
    "        Evolve simulation by one timestep. \n",
    "        '''\n",
    "        # update the number of alive neighbors for all cells\n",
    "        for row in range(self.numrows):\n",
    "            for col in range(self.numcols):                \n",
    "                self.cells[row][col].update_num_alive_neighbors()\n",
    "        \n",
    "        # update the state (alive/dead) for all cells (Can we combine this loop with the one above????)\n",
    "        for row in range(self.numrows):\n",
    "            for col in range(self.numcols):                \n",
    "                self.cells[row][col].update_is_alive()\n",
    "        \n",
    "        # update number of timesteps\n",
    "        self.t += 1\n",
    "        \n",
    "    def draw(self,fig):\n",
    "        '''\n",
    "        Draw an image where each square represents a cell and the color represents whether the cell is alive or dead\n",
    "        fig - figure for drawing\n",
    "        '''        \n",
    "        # form a numpy array of booleans where each element is True/False depending on whether the cell is alive/dead \n",
    "        alive_cells = np.array([[self.cells[row][col].is_alive for col in range(self.numcols)] for row in range(self.numrows)])\n",
    "        \n",
    "        # plot the image\n",
    "        plt.imshow(~alive_cells, cmap='ocean', vmin=0, vmax=1)\n",
    "        \n",
    "        # stuff for the animation\n",
    "        plt.title(\"timestep = \"+str(self.t)) # Display the iteration number in the title\n",
    "        clear_output(wait=True)  # Clear output for dynamic display\n",
    "        display(fig)  # Reset display\n",
    "        fig.clear()  # Prevent overlapping and layered plots\n",
    "        time.sleep(0.0001)  # Sleep for a fraction of a second to allow animation to catch up\n",
    "### DO NOT EDIT THIS CODE CELL\n",
    "### DO NOT EDIT THIS CODE CELL"
   ]
  },
  {
   "cell_type": "markdown",
   "metadata": {},
   "source": [
    "&#9989; **Question 2.2.1 (4 points)** **Answer this:** What is the purpose of the last five lines of the `__init__()` method (lines 24-28)? What are the first two for loops iterating over? What is the third for loop iterating over? Also, what is being checked in the codintional statement on line 27?"
   ]
  },
  {
   "cell_type": "markdown",
   "metadata": {},
   "source": [
    "**<font size=+3>&#9998;</font>**\n",
    "The purpose of the last five lines of the __init__() method (lines 24-28) is to initialize the Cell object with the provided parameters and to set up the initial state of the cell.\n",
    "\n",
    "The first two for loops in the update_num_alive_neighbors() method are iterating over the list of neighboring cells (neighbor_list). The purpose of these loops is to count how many neighboring cells are currently alive by checking the is_alive attribute of each neighbor cell.\n",
    "\n",
    "The third for loop in the update_is_alive() method is not explicitly mentioned in the provided code. However, based on common usage in Game of Life simulations, it is typically used to iterate over each cell's neighbors to update the number of alive neighbors.\n",
    "\n",
    "The conditional statement on line 27 checks if the current cell is alive (self.is_alive). If the current cell is alive and has fewer than 2 neighbors or more than 3 neighbors, it will not survive to the next generation and will die due to underpopulation or overpopulation. Therefore, self.is_alive will be set to False in such cases."
   ]
  },
  {
   "cell_type": "markdown",
   "metadata": {},
   "source": [
    "&#9989; **Question 2.2.2 (4 points)** **Answer this:** The `update()` method uses two sepearate double for loops. The first double for loop calls every cell's `update_num_alive_neighbors()` method, and the second double for loop calls every cell's `update_is_alive()` method. Will the simulation work the same way if we combine those two loops like this? **Justify your answer**.\n",
    "\n",
    ">         for row in range(self.numrows):\n",
    "            for col in range(self.numcols):                \n",
    "                self.cells[row][col].update_num_alive_neighbors()\n",
    "                self.cells[row][col].update_is_alive()"
   ]
  },
  {
   "cell_type": "markdown",
   "metadata": {},
   "source": [
    "**<font size=+3>&#9998;</font>**\n",
    "\n",
    "Combining two loops would not result in the simulation working the same way as having two separate double for loops. The reason lies in the dependency between the update_num_alive_neighbors() and update_is_alive() methods.\n",
    "\n",
    "In Conway's Game of Life, cells update their states based on the number of alive neighbors they have. So, in the context of the simulation, it's crucial to first update the number of alive neighbors for all cells before updating the state of any cell.\n",
    "\n",
    "Separating the update into two distinct loops ensures that all cells calculate the number of alive neighbors first before any cell updates its state based on that information. This is essential for the accurate simulation of the game's rules.\n",
    "\n",
    "If we combine the loops as shown above, the update_num_alive_neighbors() and update_is_alive() methods would be called for each cell in sequence. This would mean that the state of some cells could be updated based on the number of alive neighbors before the counts for all cells are finalized, potentially leading to incorrect results in the simulation. Therefore, it's essential to keep the two loops separate to ensure the correct sequence of operations."
   ]
  },
  {
   "cell_type": "markdown",
   "metadata": {},
   "source": [
    "&#9989; **Question 2.3 (6 points)**: Now it is time to test out your `Cell` class code along with the provided `GameOfLife` class code to make sure things work. \n",
    "\n",
    "To make it easier to define 2D arrays for the initial state, we have provided the following Python file with several useful functions.\n",
    "\n",
    "`https://raw.githubusercontent.com/yangy5/HWFiles/main/GameOfLifePatterns.py`\n",
    "\n",
    "Download this file and place it in the same directory as this Jupyter notebook. \n",
    "\n",
    "After doing that, the code below will import those functions and create a $20 \\times 20$ numpy array with zeros and ones representing an initial state. This initial state will have five living cells in the top-left region of the grid and three living cells in the top-right region of the grid. The remaining cells will be initially dead. Construct a `GameOfLife` object using that initial state. Then, animate $100$ timesteps of the simulation. "
   ]
  },
  {
   "cell_type": "code",
   "execution_count": 7,
   "metadata": {},
   "outputs": [
    {
     "name": "stdout",
     "output_type": "stream",
     "text": [
      "  % Total    % Received % Xferd  Average Speed   Time    Time     Time  Current\n",
      "                                 Dload  Upload   Total   Spent    Left  Speed\n",
      "100  5027  100  5027    0     0  63260      0 --:--:-- --:--:-- --:--:-- 63632\n"
     ]
    }
   ],
   "source": [
    "! curl -O https://raw.githubusercontent.com/yangy5/HWFiles/main/GameOfLifePatterns.py"
   ]
  },
  {
   "cell_type": "code",
   "execution_count": 20,
   "metadata": {},
   "outputs": [
    {
     "data": {
      "image/png": "[encoded data removed]",
      "text/plain": [
       "<Figure size 800x800 with 1 Axes>"
      ]
     },
     "metadata": {},
     "output_type": "display_data"
    }
   ],
   "source": [
    "# Put your code for Question 2.3 here\n",
    "\n",
    "# Import helper functions\n",
    "import numpy as np\n",
    "import matplotlib.pyplot as plt\n",
    "from matplotlib.animation import FuncAnimation\n",
    "from GameOfLifePatterns import *\n",
    "\n",
    "#defining game of life class\n",
    "class GameOfLife:\n",
    "    def __init__(self, initial_state):\n",
    "        self.current_state = initial_state.copy()\n",
    "        self.numrows, self.numcols = initial_state.shape\n",
    "        self.cells = [[Cell(initial_state[row, col]) for col in range(self.numcols)] for row in range(self.numrows)]\n",
    "\n",
    "        # Set neighbors for each cell\n",
    "        for row in range(self.numrows):\n",
    "            for col in range(self.numcols):\n",
    "                for i in range(-1, 2):\n",
    "                    for j in range(-1, 2):\n",
    "                        if i == 0 and j == 0:\n",
    "                            continue\n",
    "                        if 0 <= row + i < self.numrows and 0 <= col + j < self.numcols:\n",
    "                            self.cells[row][col].add_neighbor(self.cells[row + i][col + j])\n",
    "\n",
    "    def evolve(self):\n",
    "        # Update number of alive neighbors for each cell\n",
    "        for row in range(self.numrows):\n",
    "            for col in range(self.numcols):\n",
    "                self.cells[row][col].update_num_alive_neighbors()\n",
    "\n",
    "        # Update the state of each cell based on the number of alive neighbors\n",
    "        for row in range(self.numrows):\n",
    "            for col in range(self.numcols):\n",
    "                self.cells[row][col].update_is_alive()\n",
    "\n",
    "        # Update the current state\n",
    "        self.current_state = np.array([[self.cells[row][col].is_alive for col in range(self.numcols)] for row in range(self.numrows)])\n",
    "\n",
    "\n",
    "# initial state array\n",
    "initial_state = np.zeros((20,20))\n",
    "initial_state = add_glider(initial_state,0,0,'SE')\n",
    "initial_state = add_blinker(initial_state,1,17,'vertical')\n",
    "initial_state = add_beehive(initial_state,16,1,'horizontal')\n",
    "\n",
    "# create a GameOfLife object using the initial_state formed above\n",
    "game_of_life = GameOfLife(initial_state)\n",
    "\n",
    "# figure for animation\n",
    "fig, ax = plt.subplots(figsize=(8,8)) \n",
    "\n",
    "# draw the initial state\n",
    "\n",
    "# loop over 100 iterations\n",
    "# evolve the simulation by one timestep\n",
    "\n",
    "def update(frame):\n",
    "    game_of_life.evolve()\n",
    "    ax.clear()\n",
    "    ax.imshow(game_of_life.current_state, cmap='binary')\n",
    "    ax.set_title(f'Time step {frame+1}')\n",
    "    \n",
    "# draw the grid of cells\n",
    "ani = FuncAnimation(fig, update, frames=100, interval=200)"
   ]
  },
  {
   "cell_type": "markdown",
   "metadata": {},
   "source": [
    "If everything went correctly, you should notice that the five living cells from the top right appear to move toward the bottom right corner and eventually end up in a $2x2$ square at the bottom right corner. Also, the three living cells in the top right area appear to alternate between being in a vertical line and a horizontal line, and the six living cells in the bottom left area don't move. If that doesn't describe what your animation does, you may need to debug your `Cell()` class code in Question 2.1."
   ]
  },
  {
   "cell_type": "markdown",
   "metadata": {},
   "source": [
    "&#9989; **Question 2.4 (11 points)**: Now that you've gotten a basic animation going, let's explore the behavior of some patterns in the Game of Life. The above simulation included the \"glider\", \"blinker\", and \"beehive\" patterns. The GameOfLifePatterns.py file includes functions to add five other patterns to an array. \n",
    "\n",
    "Since these patterns turn out to be a bit more complicated than the three in the simulation above, let's look at each of these patterns one at a time. For each of these five patterns (\"pentadecathalon\", \"spaceship\", \"generator\", \"diehard\", and \"R\"), create a simulation by doing the following: \n",
    "\n",
    "1. Create a numpy array of zeros of size $60 \\times 60$ or bigger.\n",
    "2. Use the corresponding function to add just that one pattern to the array. \n",
    "3. Run the simulation for at least $200$ iterations.\n",
    "4. Briefly (1-3 sentences) describe what you observe.\n",
    "\n",
    "Since we're asking you to do five **separate** simulations, but with very similar setups, you can either (1) write code in the cell below in a way that it is easy for someone to switch between simulations or (2) create a different code cell for each simulation.\n",
    "\n",
    "Some tips:\n",
    "\n",
    "1. You may want to read the docstrings in the GameOfLifePatterns.py file to understand how these functions work. You were also provided examples in the code for Question 2.3. \n",
    "\n",
    "2. The `row` and `col` arguments of the functions specify the location for the top-left corner. If you try to add a pattern in a location such that any part of the pattern goes outside the bounds for the array, you'll get an error. \n",
    "\n",
    "3. Most of these patterns are best placed in the middleish of the array, but the \"generator\" pattern is a bit cooler if you place it in the opposite corner as the direction you specify (e.g. top-left if `dir='SE'`, top-right if `dir='SW'`, bottom-left if `dir='NE'`, bottom-right if `dir='NW'`). "
   ]
  },
  {
   "cell_type": "code",
   "execution_count": 22,
   "metadata": {},
   "outputs": [
    {
     "data": {
      "image/png": "[encoded data removed]",
      "text/plain": [
       "<Figure size 800x800 with 1 Axes>"
      ]
     },
     "metadata": {},
     "output_type": "display_data"
    }
   ],
   "source": [
    "# Put your code for Question 2.4 here\n",
    "\n",
    "import numpy as np\n",
    "import matplotlib.pyplot as plt\n",
    "from matplotlib.animation import FuncAnimation\n",
    "from GameOfLifePatterns import *\n",
    "\n",
    "# Define the Cell class as you have previously done\n",
    "\n",
    "# Define the GameOfLife class\n",
    "class GameOfLife:\n",
    "    def __init__(self, initial_state):\n",
    "        self.current_state = initial_state.copy()\n",
    "        self.numrows, self.numcols = initial_state.shape\n",
    "        self.cells = [[Cell(initial_state[row, col]) for col in range(self.numcols)] for row in range(self.numrows)]\n",
    "\n",
    "        # Set neighbors for each cell\n",
    "        for row in range(self.numrows):\n",
    "            for col in range(self.numcols):\n",
    "                for i in range(-1, 2):\n",
    "                    for j in range(-1, 2):\n",
    "                        if i == 0 and j == 0:\n",
    "                            continue\n",
    "                        if 0 <= row + i < self.numrows and 0 <= col + j < self.numcols:\n",
    "                            self.cells[row][col].add_neighbor(self.cells[row + i][col + j])\n",
    "\n",
    "    def evolve(self):\n",
    "        # Update number of alive neighbors for each cell\n",
    "        for row in range(self.numrows):\n",
    "            for col in range(self.numcols):\n",
    "                self.cells[row][col].update_num_alive_neighbors()\n",
    "\n",
    "        # Update the state of each cell based on the number of alive neighbors\n",
    "        for row in range(self.numrows):\n",
    "            for col in range(self.numcols):\n",
    "                self.cells[row][col].update_is_alive()\n",
    "\n",
    "        # Update the current state\n",
    "        self.current_state = np.array([[self.cells[row][col].is_alive for col in range(self.numcols)] for row in range(self.numrows)])\n",
    "\n",
    "# Function to run a simulation for a specific pattern\n",
    "def run_simulation(pattern_function, pattern_name, initial_state_size=50, num_iterations=100):\n",
    "    # Create a numpy array of zeros\n",
    "    initial_state = np.zeros((initial_state_size, initial_state_size))\n",
    "\n",
    "    # Use the corresponding function to add the pattern to the array\n",
    "    initial_state = pattern_function(initial_state, initial_state_size // 2, initial_state_size // 2, 'vertical')\n",
    "\n",
    "    # Create a GameOfLife object using the initial_state\n",
    "    game_of_life = GameOfLife(initial_state)\n",
    "\n",
    "    # Figure for animation\n",
    "    fig, ax = plt.subplots(figsize=(8, 8))\n",
    "\n",
    "    # Draw the initial state\n",
    "    ax.imshow(initial_state, cmap='binary')\n",
    "    ax.set_title(f'Initial State - {pattern_name}')\n",
    "\n",
    "    # Define function to update the plot for each animation frame\n",
    "    def update(frame):\n",
    "        game_of_life.evolve()\n",
    "        ax.clear()\n",
    "        ax.imshow(game_of_life.current_state, cmap='binary')\n",
    "        ax.set_title(f'{pattern_name} - Time step {frame+1}')\n",
    "\n",
    "    # Animate the simulation for num_iterations iterations\n",
    "    ani = FuncAnimation(fig, update, frames=num_iterations, interval=200)\n",
    "\n",
    "    # Show the animation\n",
    "    plt.show()\n",
    "\n",
    "# Run the simulation for the \"pentadecathalon\" pattern\n",
    "run_simulation(add_pentadecathalon, \"Pentadecathalon\")\n"
   ]
  },
  {
   "cell_type": "markdown",
   "metadata": {},
   "source": [
    "**<font size=+3>&#9998;</font> Put your observations here:**\n",
    "\n",
    "**\"pentadecathalon\":**\n",
    "\n",
    "**\"spaceship\":**\n",
    "\n",
    "**\"generator\":**\n",
    "\n",
    "**\"diehard\":**\n",
    "\n",
    "**\"R\"**:"
   ]
  },
  {
   "cell_type": "markdown",
   "metadata": {},
   "source": [
    "&#9989; **Question 2.5 (4 points)**: There are many other interesting patterns in the Game Of Life. Using an internet search or your own creativity, find at least one interesting pattern that wasn't included in the GameOfLife.py file. Then, form a reasonably sized 2D initial state array with that pattern somewhere on it and simulate several iterations of the Game of Life with that initial state below. Be sure to cite where you got the pattern from. "
   ]
  },
  {
   "cell_type": "code",
   "execution_count": null,
   "metadata": {},
   "outputs": [],
   "source": [
    "# Put your code for Question 2.5 here"
   ]
  },
  {
   "cell_type": "markdown",
   "metadata": {},
   "source": [
    "---\n",
    "### &#128721; STOP\n",
    "**Pause to commit your changes to your Git repository!**\n",
    "\n",
    "Take a moment to save your notebook, commit the changes to your Git repository using the commit message \"Committing Part 2\", and push the changes to GitHub.\n",
    "\n",
    "---"
   ]
  },
  {
   "cell_type": "markdown",
   "metadata": {},
   "source": [
    "---\n",
    "## Part 3: Graph theory for sports data (33 points)\n",
    "\n",
    "In this part of the homework, we will look at a dataset which contains the final score of all NCAA football games between Football Bowl Subdivision (FBS) teams during the 2023 regular season. We will model this data as a directed graph where each team is a node, and for each game, there is a directed edge from the winning team to the losing team. \n",
    "\n",
    "So for example, if we only had four teams (Team A, Team B, Team C, and Team D) and Team A beat Team B, Team A beat Team C, Team B beat Team C, and Team C beat Team D, our directed graph would look like this: \n",
    "\n",
    "<img src=\"https://i.ibb.co/VvKLQYy/Four-Team-Graph.png\" width=150px align=\"center\">\n",
    "\n",
    "However, since there are several FBS teams and several games between them, our directed graph will actually have a lot more nodes and edges. Here's a pretty graph that someone else made with a similar but different dataset. <img src=\"http://blogs.acu.edu/coba/files/2016/12/ncaa-football-diagram-490x376.jpg\" width=400px align=\"center\" alt=\"Image credit: https://blogs.acu.edu/\">\n",
    "\n",
    "For those of you who don't know much about football or even sports in general, don't panic. No intricate sports knowledge is needed.\n",
    "\n",
    "Technical note for sports fans: The dataset you will be using only include games where both teams are in the FBS. So for example, the game between `\"Michigan State\"` and `\"Richmond\"` is not in the dataset since `\"Richmond\"` is an FCS team."
   ]
  },
  {
   "cell_type": "markdown",
   "metadata": {},
   "source": [
    "&#9989;  **Question 3.1 (3 points)**: For convenience, you are provided with a file called `NCAAFootballScores2023.csv`, which you can download from here: \n",
    "\n",
    "`https://raw.githubusercontent.com/yangy5/HWFiles/main/NCAAFootballScores2023.csv`\n",
    "\n",
    "Each row contains data from one game between two FBS teams. The first column contains the date that the game was played. The second and fourth columns contain the names of the home team and the away team respectively. The third and fifth columns contain the number of points that the home team and the away team scored respectively. \n",
    "\n",
    "**Do This:** Load the data in this file into a `Pandas` `DataFrame`, and **give the columns appropriate titles**. Display the first few and last few rows of the `DataFrame`. "
   ]
  },
  {
   "cell_type": "code",
   "execution_count": 23,
   "metadata": {},
   "outputs": [
    {
     "name": "stdout",
     "output_type": "stream",
     "text": [
      "  % Total    % Received % Xferd  Average Speed   Time    Time     Time  Current\n",
      "                                 Dload  Upload   Total   Spent    Left  Speed\n",
      "100 25849  100 25849    0     0   142k      0 --:--:-- --:--:-- --:--:--  141k\n"
     ]
    }
   ],
   "source": [
    "!curl -O https://raw.githubusercontent.com/yangy5/HWFiles/main/NCAAFootballScores2023.csv"
   ]
  },
  {
   "cell_type": "code",
   "execution_count": null,
   "metadata": {},
   "outputs": [],
   "source": [
    "# Put your code for Question 3.1 here:"
   ]
  },
  {
   "cell_type": "markdown",
   "metadata": {},
   "source": [
    "Next, you will construct the directed graph to represent this data.\n",
    "\n",
    "&#9989;  **Question 3.2 (5 points)**: Create an empty `DiGraph` object from the `networkx` package. For each row of the `DataFrame`, add a directed edge from the node corresponding to the winning team (the one with the larger score) to the node corresponding to the losing team (the one with the smaller score). Note that there are no ties in college football.\n",
    "\n",
    "Remember that each edge in a directed graph has an orientation. So adding an edge from node A to node B is not the same thing as adding an edge from node B to node A. "
   ]
  },
  {
   "cell_type": "code",
   "execution_count": null,
   "metadata": {},
   "outputs": [],
   "source": [
    "# Put your code for Question 3.2 here:"
   ]
  },
  {
   "cell_type": "markdown",
   "metadata": {},
   "source": [
    "This graph has over 100 nodes and hundreds of edges, so it will be hard to look at the entire graph at once. But we can construct and display a small subgraph of the entire directed graph.\n",
    "\n",
    "&#9989;  **Question 3.3 (7 points)**: The cell below contains code which creates a dictionary whose keys are the names of the teams in the Big Ten Conference (yes, there are more than 10 teams in this dictionary) and whose values are tuples of coordinates. \n",
    "\n",
    "**Do the following**: \n",
    "* Using the `subgraph()` method in the `networkx` package, create another `DiGraph` object which is the subgraph of  induced by the nodes in the keys of the dictionary below. In other words, this subgraph should have only the nodes corresponding to the Big Ten teams and only the edges between teams in the Big Ten. \n",
    "* Then, draw this subgraph where each node is labeled with the team name and is at the position in the dictionary. \n",
    "* Finally, explicitly set the colors of the nodes, edges, and labels to any color scheme that you like. \n",
    "\n",
    "If you do this part correctly, you should get something that looks like this: <img src=\"https://i.ibb.co/FDQtG4J/Big-Ten-Subgraph.png\" width=400px align=\"center\">"
   ]
  },
  {
   "cell_type": "code",
   "execution_count": null,
   "metadata": {},
   "outputs": [],
   "source": [
    "# Put your code for Question 3.3 here:\n",
    "BigTen_positions = {\"Michigan State\":(0.63,0.92),\"Michigan\":(0.96,0.71),\"Penn State\":(1.17,0.38),\"Rutgers\":(1.25,0.0),\n",
    "                    \"Ohio State\":(1.17,-0.38),\"Maryland\":(0.96,-0.71),\"Indiana\":(0.63,-0.92),\n",
    "                    \"Illinois\":(-0.63,-0.92),\"Purdue\":(-0.96,-0.71),\"Nebraska\":(-1.17,-0.38),\n",
    "                    \"Iowa\":(-1.25,0.0),\"Northwestern\":(-1.17,0.38),\"Wisconsin\":(-0.96,0.71),\"Minnesota\":(-0.63,0.92)}"
   ]
  },
  {
   "cell_type": "markdown",
   "metadata": {},
   "source": [
    "&#9989;  **Question 3.4 (6 points total)**: For each part of Question 3.4, use either or both of the `DiGraph` objects you created along with a short amount of networkx code to find answer. **Note that you must use a networkx method to receive credit, and answers based on using the original csv file, the DataFrame, or by simply looking at the plot in Question 3.3 will not receive credit.**\n",
    "\n",
    "**Question 3.4.1 (1 point)**: What is total number of FBS teams?\n",
    "\n",
    "**Question 3.4.2 (1 point)**: What is total number of Big Ten teams?\n",
    "\n",
    "**Question 3.4.3 (1 point)**: How many games did `\"Michigan State\"` play against Big Ten teams?\n",
    "\n",
    "**Question 3.4.4 (1 point)**: How many games did `\"Wisconsin\"` win against FBS teams?\n",
    "\n",
    "**Question 3.4.5 (1 point)**: How many games did `\"Indiana\"` lose against Big Ten teams?\n",
    "\n",
    "**Question 3.4.6 (1 point)**: True or False?: `\"Miami (Florida)\"` lost to `\"Georgia Tech\"`. Note that these are not Big Ten teams. \n",
    "\n",
    "If you get stuck, look through the [`networkx` `DiGraph` documentation](https://networkx.org/documentation/stable/reference/classes/digraph.html) and/or think carefully about how teams and game results are represented in the two `DiGraph` objects. Searching the `networkx` documentation for some of the following terms will be helpful: \"nodes\", \"has edge\", \"degree\", \"in degree\", \"out degree\". Also, think carefully about whether you need to use the full graph with all the FBS teams or the subgraph with just the Big Ten teams for each question."
   ]
  },
  {
   "cell_type": "code",
   "execution_count": null,
   "metadata": {},
   "outputs": [],
   "source": [
    "# Question 3.4.1: What is total number of FBS teams?"
   ]
  },
  {
   "cell_type": "code",
   "execution_count": null,
   "metadata": {},
   "outputs": [],
   "source": [
    "# Question 3.4.2: What is total number of Big Ten teams?"
   ]
  },
  {
   "cell_type": "code",
   "execution_count": null,
   "metadata": {},
   "outputs": [],
   "source": [
    "# Question 3.4.3: How many games did \"Michigan State\" play against Big Ten teams?"
   ]
  },
  {
   "cell_type": "code",
   "execution_count": null,
   "metadata": {},
   "outputs": [],
   "source": [
    "# Question 3.4.4: How many games did \"Wisconsin\" win against FBS teams?"
   ]
  },
  {
   "cell_type": "code",
   "execution_count": null,
   "metadata": {},
   "outputs": [],
   "source": [
    "# Question 3.4.5: How many games did \"Indiana\" lose against Big Ten teams?"
   ]
  },
  {
   "cell_type": "code",
   "execution_count": null,
   "metadata": {},
   "outputs": [],
   "source": [
    "# Question 3.4.6: True or False?: \"Miami (Florida)\" lost to \"Georgia Tech\". Note that these are not Big Ten teams."
   ]
  },
  {
   "cell_type": "markdown",
   "metadata": {},
   "source": [
    "&#9989;  **Question 3.5 (5 points)**: There are over 100 FBS teams, but each team only gets to play a few of the other teams. However, fans still want to be able to argue that their team is better than another team, even if their team didn't play and beat that other team. One way to do this is using the \"transitive property\". For example, if Team A beat Team B and Team B beat Team C, then Team A's fans can say \"Since Team A is better than Team B, and Team B is better than Team C, Team A must be better than Team C.\" \n",
    "\n",
    "This isn't a perfectly logical argument since there is some luck in sports, and so the \"better\" team doesn't always win. Furthermore, if Team A beats Team B, Team B beats Team C, and Team C beats Team A, then the fanbases of all three teams can argue that their team is better than a team they lost to. Of course, arguments about sports are often not based on logic. :P\n",
    "\n",
    "We can extend this \"transitive property\"-based reasoning by using more intermediate teams. In general, if Team $A_0$ beat Team $A_1$, Team $A_1$ beat Team $A_2$, ..., and Team $A_{n-1}$ beat Team $A_n$, then Team $A_0$'s fans can claim that Team $A_0$ is better than Team $A_n$. Obviously, the more intermediate teams you need, the less credible the argument sounds. The website https://www.myteamisbetterthanyourteam.com/ helps fans find a shortest path of comparisons to claim that their team is better than someone else's team. \n",
    "\n",
    "**Do this**: Our goal is to make a function that takes in the directed graph that you created along with two strings called `my_team` and `their_team`, and then prints a sequence of statements of the form \"[TEAM NAME] beat [TEAM NAME]\" which can be used to argue that `my_team` is better than `their team` (assuming such a sequence exists). To do this, the function will first use the `shortest_path()` method to generate a list of teams $[A_0,A_1,\\ldots,A_n]$ which forms the shortest path from `my_team` to `their_team`. Then, it will iterate through this list to print out the sequence of statements \"Team $A_i$ beat Team $A_{i+1}$\"."
   ]
  },
  {
   "cell_type": "code",
   "execution_count": null,
   "metadata": {},
   "outputs": [],
   "source": [
    "# Put your code for Question 3.5 here:\n",
    "def find_argument(digraph,my_team,their_team): # Don't change this line\n",
    "    "
   ]
  },
  {
   "cell_type": "markdown",
   "metadata": {},
   "source": [
    "**Do This**: Test out your `find_argument()` method by running the cell below. The first few lines of the output should look something like this:\n",
    "\n",
    "\n",
    "Michigan State is better than Alabama because ...  \n",
    "Michigan State beat Central Michigan  \n",
    "Central Michigan beat South Alabama  \n",
    "South Alabama beat Oklahoma State  \n",
    "Oklahoma State beat Oklahoma  \n",
    "Oklahoma beat Texas  \n",
    "Texas beat Alabama  \n"
   ]
  },
  {
   "cell_type": "code",
   "execution_count": null,
   "metadata": {},
   "outputs": [],
   "source": [
    "# Replace the variable \"digraph\" with whatever you called your DiGraph with all FBS teams\n",
    "print(\"Michigan State is better than Alabama because ...\")\n",
    "find_argument(digraph,\"Michigan State\",\"Alabama\")\n",
    "print(\"\\nMichigan State is better than Minnesota because ...\")\n",
    "find_argument(digraph,\"Michigan State\",\"Minnesota\")\n",
    "print(\"\\nMiddle Tennessee State is better than Missouri because ...\")\n",
    "find_argument(digraph,\"Middle Tennessee State\",\"Missouri\")\n",
    "print(\"\\nMissouri is better than Middle Tennessee State because ...\")\n",
    "find_argument(digraph,\"Missouri\",\"Middle Tennessee State\")\n",
    "# Replace the variable \"digraph\" with whatever you called your DiGraph with all FBS teams"
   ]
  },
  {
   "cell_type": "markdown",
   "metadata": {},
   "source": [
    "&#9989;  **Question 3.6 (5 points):** A graph/network is said to have a \"[community structure](https://en.wikipedia.org/wiki/Community_structure)\" if the nodes can be partitioned into communities such that generally nodes are connected to a high percentage of other nodes in the same community and a low percentage of nodes in other communities. Many real world graphs/networks (particularly those modeling social networks) have a \"community structure\". By taking a graph and detecting which nodes are part of tightly connected communities, we can often gain valuable insights into our graph. \n",
    "\n",
    "\n",
    "Most NCAA Football Bowl Subdivision teams are organized into conferences with 8 to 14 teams per conference. Typically, teams which are part of a conference will play most or all of the other teams in their conference and only a few teams outside their conference. Hence, the graph we generated with all the FBS teams will have this community structure. The pretty graph at the beginning of Part 3 is a good visualization of this structure.\n",
    "\n",
    "Of course, we can easily look up which teams were in which conferences during the 2023 football season. However, let's see how easily we can detect this from the data. The Louvain method is one algorithm for community detection. If you are curious, you can read the Wikipedia article here https://en.wikipedia.org/wiki/Louvain_method, but it is not required."
   ]
  },
  {
   "cell_type": "markdown",
   "metadata": {},
   "source": [
    "**Do This:** First, make an undirected `Graph` that has the same nodes and edges as your `DiGraph` containing all FBS teams. There is a simple `networkx` `DiGraph` method to do this. Next, use the `louvain_communities()` method which is in the `community` subpackage of `networkx` to partition the graph into communities using the Louvain Community Detection Algorithm. The output of this method is a list of sets where each set represents a community. Finally, print the output of this algorithm.\n",
    "\n",
    "You may want to read the documentation for the [`louvain_comminities()`](https://networkx.org/documentation/stable/reference/algorithms/generated/networkx.algorithms.community.louvain.louvain_communities.html) method."
   ]
  },
  {
   "cell_type": "code",
   "execution_count": null,
   "metadata": {},
   "outputs": [],
   "source": [
    "# Put your code for Question 3.6 here:"
   ]
  },
  {
   "cell_type": "markdown",
   "metadata": {},
   "source": [
    "&#9989;  **Question 3.7 (2 points):** What teams were detected to be in the same community as `\"Michigan State\"`? How well does this match up with the teams that are in the Big Ten Conference? Are there any teams included in the same community as `\"Michigan State\"` that are not part of the Big Ten Conference? Are there any teams in the Big Ten Conference that were not included in the same community as `\"Michigan State\"`? (See Question 3.3 if you forgot which teams are in the Big Ten Conference). \n",
    "\n",
    "**Optional:** Those of you who are either sports fans or interested in community detection may want to look at the other communities that were detected and see how those align with the FBS conferences for the 2023 season. "
   ]
  },
  {
   "cell_type": "markdown",
   "metadata": {},
   "source": [
    "**<font size=+3>&#9998;</font> Put your answer here**"
   ]
  },
  {
   "cell_type": "markdown",
   "metadata": {},
   "source": [
    "---\n",
    "### &#128721; STOP\n",
    "**Pause to commit your changes to your Git repository!**\n",
    "\n",
    "Take a moment to save your notebook, commit the changes to your Git repository using the commit message \"Committing Part 3\", and push the changes to GitHub.\n",
    "\n",
    "---"
   ]
  },
  {
   "cell_type": "markdown",
   "metadata": {},
   "source": [
    "---\n",
    "## Assignment wrap-up\n",
    "\n",
    "Please fill out the form that appears when you run the code below.  **You must completely fill this out in order to receive credit for the assignment!**"
   ]
  },
  {
   "cell_type": "code",
   "execution_count": null,
   "metadata": {},
   "outputs": [],
   "source": [
    "\n",
    "\n",
    "from IPython.display import HTML\n",
    "HTML(\n",
    "\"\"\"\n",
    "<iframe \n",
    "\tsrc=\"https://forms.office.com/r/aTDe5RGRAK\" \n",
    "\twidth=\"800px\" \n",
    "\theight=\"600px\" \n",
    "\tframeborder=\"0\" \n",
    "\tmarginheight=\"0\" \n",
    "\tmarginwidth=\"0\">\n",
    "\tLoading...\n",
    "</iframe>\n",
    "\"\"\"\n",
    ")"
   ]
  },
  {
   "cell_type": "markdown",
   "metadata": {},
   "source": [
    "### Congratulations, you're done!\n",
    "\n",
    "Submit this assignment by uploading it to the course Desire2Learn web page.  Go to the \"Homework Assignments\" folder, find the dropbox link for Homework #2, and upload **your notebook** there."
   ]
  },
  {
   "cell_type": "markdown",
   "metadata": {},
   "source": [
    "&#169; Copyright 2023,  Department of Computational Mathematics, Science and Engineering at Michigan State University"
   ]
  }
 ],
 "metadata": {
  "anaconda-cloud": {},
  "kernelspec": {
   "display_name": "Python 3.11 (default)",
   "language": "python",
   "name": "python3"
  },
  "language_info": {
   "codemirror_mode": {
    "name": "ipython",
    "version": 3
   },
   "file_extension": ".py",
   "mimetype": "text/x-python",
   "name": "python",
   "nbconvert_exporter": "python",
   "pygments_lexer": "ipython3",
   "version": "3.11.6"
  }
 },
 "nbformat": 4,
 "nbformat_minor": 4
}
